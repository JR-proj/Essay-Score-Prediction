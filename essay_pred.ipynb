{
 "cells": [
  {
   "cell_type": "markdown",
   "metadata": {},
   "source": [
    "Installing Dependencies"
   ]
  },
  {
   "cell_type": "code",
   "execution_count": 1,
   "metadata": {},
   "outputs": [],
   "source": [
    "import numpy as np\n",
    "import pandas as pd\n",
    "import matplotlib.pyplot as plt"
   ]
  },
  {
   "cell_type": "code",
   "execution_count": 3,
   "metadata": {},
   "outputs": [
    {
     "name": "stdout",
     "output_type": "stream",
     "text": [
      "<bound method NDFrame.head of       essay_id                                          full_text  score\n",
      "0      000d118  Many people have car where they live. The thin...      3\n",
      "1      000fe60  I am a scientist at NASA that is discussing th...      3\n",
      "2      001ab80  People always wish they had the same technolog...      4\n",
      "3      001bdc0  We all heard about Venus, the planet without a...      4\n",
      "4      002ba53  Dear, State Senator\\n\\nThis is a letter to arg...      3\n",
      "...        ...                                                ...    ...\n",
      "17302  ffd378d  the story \" The Challenge of Exploing Venus \" ...      2\n",
      "17303  ffddf1f  Technology has changed a lot of ways that we l...      4\n",
      "17304  fff016d  If you don't like sitting around all day than ...      2\n",
      "17305  fffb49b  In \"The Challenge of Exporing Venus,\" the auth...      1\n",
      "17306  fffed3e  Venus is worthy place to study but dangerous. ...      2\n",
      "\n",
      "[17307 rows x 3 columns]>\n"
     ]
    }
   ],
   "source": [
    "df = pd.read_csv(\"train.csv\")         # Train csv Data loading \n",
    "print(df.head)                        # Printing first few rows "
   ]
  },
  {
   "cell_type": "code",
   "execution_count": 4,
   "metadata": {},
   "outputs": [
    {
     "data": {
      "image/png": "[encoded data removed]",
      "text/plain": [
       "<Figure size 640x480 with 1 Axes>"
      ]
     },
     "metadata": {},
     "output_type": "display_data"
    },
    {
     "name": "stdout",
     "output_type": "stream",
     "text": [
      "[  148.   179.   200.   219.   237.   255.   274.   292.   310.   328.\n",
      "   349.   367.   387.   407.   431.   457.   486.   523.   572.   664.\n",
      " 19311.]\n"
     ]
    },
    {
     "data": {
      "text/plain": [
       "<module 'matplotlib.pyplot' from '/home/codespace/.local/lib/python3.10/site-packages/matplotlib/pyplot.py'>"
      ]
     },
     "execution_count": 4,
     "metadata": {},
     "output_type": "execute_result"
    }
   ],
   "source": [
    "df.columns     # checking the distribution\n",
    "# df[\"score\"].value_counts().plot.bar()  \n",
    "df[\"full_text\"].str.len().plot.hist()    \n",
    "\n",
    "length_word=[len(i.split(\" \")) for i in df[\"full_text\"]]\n",
    "length_word.sort(reverse=True)\n",
    "percentile_range=range(0,101,5)\n",
    "x_axis=np.percentile(length_word,percentile_range)\n",
    "plt.plot(x_axis,percentile_range)\n",
    "plt.show()\n",
    "print(x_axis)\n",
    "#print(np.percentile(length_word,100))\n",
    "\n",
    "plt"
   ]
  },
  {
   "cell_type": "markdown",
   "metadata": {},
   "source": [
    "Tokenizing the dataset"
   ]
  },
  {
   "cell_type": "code",
   "execution_count": 5,
   "metadata": {},
   "outputs": [
    {
     "name": "stdout",
     "output_type": "stream",
     "text": [
      "Collecting sentencepiece\n",
      "  Downloading sentencepiece-0.2.0-cp310-cp310-manylinux_2_17_x86_64.manylinux2014_x86_64.whl.metadata (7.7 kB)\n",
      "Downloading sentencepiece-0.2.0-cp310-cp310-manylinux_2_17_x86_64.manylinux2014_x86_64.whl (1.3 MB)\n",
      "\u001b[2K   \u001b[90m━━━━━━━━━━━━━━━━━━━━━━━━━━━━━━━━━━━━━━━━\u001b[0m \u001b[32m1.3/1.3 MB\u001b[0m \u001b[31m4.3 MB/s\u001b[0m eta \u001b[36m0:00:00\u001b[0m00:01\u001b[0m00:01\u001b[0m0m\n",
      "\u001b[?25hInstalling collected packages: sentencepiece\n",
      "Successfully installed sentencepiece-0.2.0\n",
      "\n",
      "\u001b[1m[\u001b[0m\u001b[34;49mnotice\u001b[0m\u001b[1;39;49m]\u001b[0m\u001b[39;49m A new release of pip is available: \u001b[0m\u001b[31;49m24.0\u001b[0m\u001b[39;49m -> \u001b[0m\u001b[32;49m24.1.1\u001b[0m\n",
      "\u001b[1m[\u001b[0m\u001b[34;49mnotice\u001b[0m\u001b[1;39;49m]\u001b[0m\u001b[39;49m To update, run: \u001b[0m\u001b[32;49mpython3 -m pip install --upgrade pip\u001b[0m\n"
     ]
    }
   ],
   "source": [
    "!pip install sentencepiece  "
   ]
  },
  {
   "cell_type": "code",
   "execution_count": 6,
   "metadata": {},
   "outputs": [
    {
     "name": "stderr",
     "output_type": "stream",
     "text": [
      "sentencepiece_trainer.cc(78) LOG(INFO) Starts training with : \n",
      "trainer_spec {\n",
      "  input: essays.txt\n",
      "  input_format: \n",
      "  model_prefix: essay_sp\n",
      "  model_type: BPE\n",
      "  vocab_size: 8000\n",
      "  self_test_sample_size: 0\n",
      "  character_coverage: 1\n",
      "  input_sentence_size: 0\n",
      "  shuffle_input_sentence: 1\n",
      "  seed_sentencepiece_size: 1000000\n",
      "  shrinking_factor: 0.75\n",
      "  max_sentence_length: 4192\n",
      "  num_threads: 16\n",
      "  num_sub_iterations: 2\n",
      "  max_sentencepiece_length: 16\n",
      "  split_by_unicode_script: 1\n",
      "  split_by_number: 1\n",
      "  split_by_whitespace: 1\n",
      "  split_digits: 0\n",
      "  pretokenization_delimiter: \n",
      "  treat_whitespace_as_suffix: 0\n",
      "  allow_whitespace_only_pieces: 0\n",
      "  required_chars: \n",
      "  byte_fallback: 0\n",
      "  vocabulary_output_piece_score: 1\n",
      "  train_extremely_large_corpus: 0\n",
      "  seed_sentencepieces_file: \n",
      "  hard_vocab_limit: 1\n",
      "  use_all_vocab: 0\n",
      "  unk_id: 1\n",
      "  bos_id: 2\n",
      "  eos_id: 3\n",
      "  pad_id: 0\n",
      "  unk_piece: [UNK]\n",
      "  bos_piece: [BOS]\n",
      "  eos_piece: [EOS]\n",
      "  pad_piece: [PAD]\n",
      "  unk_surface:  ⁇ \n",
      "  enable_differential_privacy: 0\n",
      "  differential_privacy_noise_level: 0\n",
      "  differential_privacy_clipping_threshold: 0\n",
      "}\n",
      "normalizer_spec {\n",
      "  name: nmt_nfkc\n",
      "  add_dummy_prefix: 1\n",
      "  remove_extra_whitespaces: 1\n",
      "  escape_whitespaces: 1\n",
      "  normalization_rule_tsv: \n",
      "}\n",
      "denormalizer_spec {}\n",
      "trainer_interface.cc(353) LOG(INFO) SentenceIterator is not specified. Using MultiFileSentenceIterator.\n",
      "trainer_interface.cc(185) LOG(INFO) Loading corpus: essays.txt\n",
      "trainer_interface.cc(380) LOG(WARNING) Found too long line (7420 > 4192).\n",
      "trainer_interface.cc(382) LOG(WARNING) Too long lines are skipped in the training.\n",
      "trainer_interface.cc(383) LOG(WARNING) The maximum length can be changed with --max_sentence_length=<size> flag.\n",
      "trainer_interface.cc(409) LOG(INFO) Loaded all 85910 sentences\n",
      "trainer_interface.cc(416) LOG(INFO) Skipped 28 too long sentences.\n",
      "trainer_interface.cc(425) LOG(INFO) Adding meta_piece: [PAD]\n",
      "trainer_interface.cc(425) LOG(INFO) Adding meta_piece: [UNK]\n",
      "trainer_interface.cc(425) LOG(INFO) Adding meta_piece: [BOS]\n",
      "trainer_interface.cc(425) LOG(INFO) Adding meta_piece: [EOS]\n",
      "trainer_interface.cc(430) LOG(INFO) Normalizing sentences...\n",
      "trainer_interface.cc(539) LOG(INFO) all chars count=35391580\n",
      "trainer_interface.cc(550) LOG(INFO) Done: 100% characters are covered.\n",
      "trainer_interface.cc(560) LOG(INFO) Alphabet size=123\n",
      "trainer_interface.cc(561) LOG(INFO) Final character coverage=1\n",
      "trainer_interface.cc(592) LOG(INFO) Done! preprocessed 85907 sentences.\n",
      "trainer_interface.cc(598) LOG(INFO) Tokenizing input sentences with whitespace: 85907\n",
      "trainer_interface.cc(609) LOG(INFO) Done! 129243\n",
      "bpe_model_trainer.cc(159) LOG(INFO) Updating active symbols. max_freq=1019572 min_freq=56\n",
      "bpe_model_trainer.cc(268) LOG(INFO) Added: freq=240975 size=20 all=3364 active=2008 piece=ing\n",
      "bpe_model_trainer.cc(268) LOG(INFO) Added: freq=123270 size=40 all=4488 active=3132 piece=as\n",
      "bpe_model_trainer.cc(268) LOG(INFO) Added: freq=89091 size=60 all=5977 active=4621 piece=ver\n",
      "bpe_model_trainer.cc(268) LOG(INFO) Added: freq=62250 size=80 all=7433 active=6077 piece=▁are\n",
      "bpe_model_trainer.cc(268) LOG(INFO) Added: freq=46637 size=100 all=8819 active=7463 piece=▁not\n",
      "bpe_model_trainer.cc(159) LOG(INFO) Updating active symbols. max_freq=45999 min_freq=2665\n",
      "bpe_model_trainer.cc(268) LOG(INFO) Added: freq=37269 size=120 all=10010 active=2167 piece=▁people\n",
      "bpe_model_trainer.cc(268) LOG(INFO) Added: freq=31070 size=140 all=11104 active=3261 piece=ud\n",
      "bpe_model_trainer.cc(268) LOG(INFO) Added: freq=27980 size=160 all=11891 active=4048 piece=um\n",
      "bpe_model_trainer.cc(268) LOG(INFO) Added: freq=24615 size=180 all=13059 active=5216 piece=and\n",
      "bpe_model_trainer.cc(268) LOG(INFO) Added: freq=21915 size=200 all=14492 active=6649 piece=ag\n",
      "bpe_model_trainer.cc(159) LOG(INFO) Updating active symbols. max_freq=21844 min_freq=2475\n",
      "bpe_model_trainer.cc(268) LOG(INFO) Added: freq=19966 size=220 all=15606 active=1970 piece=▁cl\n",
      "bpe_model_trainer.cc(268) LOG(INFO) Added: freq=17814 size=240 all=16822 active=3186 piece=ive\n",
      "bpe_model_trainer.cc(268) LOG(INFO) Added: freq=16554 size=260 all=17524 active=3888 piece=▁he\n",
      "bpe_model_trainer.cc(268) LOG(INFO) Added: freq=15202 size=280 all=18500 active=4864 piece=ang\n",
      "bpe_model_trainer.cc(268) LOG(INFO) Added: freq=14102 size=300 all=19519 active=5883 piece=▁up\n",
      "bpe_model_trainer.cc(159) LOG(INFO) Updating active symbols. max_freq=14062 min_freq=2209\n",
      "bpe_model_trainer.cc(268) LOG(INFO) Added: freq=12726 size=320 all=20597 active=2052 piece=reat\n",
      "bpe_model_trainer.cc(268) LOG(INFO) Added: freq=11899 size=340 all=21819 active=3274 piece=▁states\n",
      "bpe_model_trainer.cc(268) LOG(INFO) Added: freq=11063 size=360 all=22417 active=3872 piece=▁driving\n",
      "bpe_model_trainer.cc(268) LOG(INFO) Added: freq=10255 size=380 all=22885 active=4340 piece=ose\n",
      "bpe_model_trainer.cc(268) LOG(INFO) Added: freq=9532 size=400 all=23858 active=5313 piece=▁Mars\n",
      "bpe_model_trainer.cc(159) LOG(INFO) Updating active symbols. max_freq=9519 min_freq=1559\n",
      "bpe_model_trainer.cc(268) LOG(INFO) Added: freq=9051 size=420 all=24605 active=1935 piece=���most\n",
      "bpe_model_trainer.cc(268) LOG(INFO) Added: freq=8429 size=440 all=25364 active=2694 piece=▁Electoral\n",
      "bpe_model_trainer.cc(268) LOG(INFO) Added: freq=7889 size=460 all=26082 active=3412 piece=pe\n",
      "bpe_model_trainer.cc(268) LOG(INFO) Added: freq=7514 size=480 all=26779 active=4109 piece=ert\n",
      "bpe_model_trainer.cc(268) LOG(INFO) Added: freq=6988 size=500 all=27539 active=4869 piece=▁ag\n",
      "bpe_model_trainer.cc(159) LOG(INFO) Updating active symbols. max_freq=6980 min_freq=1165\n",
      "bpe_model_trainer.cc(268) LOG(INFO) Added: freq=6635 size=520 all=28052 active=1852 piece=▁my\n",
      "bpe_model_trainer.cc(268) LOG(INFO) Added: freq=6302 size=540 all=28801 active=2601 piece=▁form\n",
      "bpe_model_trainer.cc(268) LOG(INFO) Added: freq=5946 size=560 all=29525 active=3325 piece=ase\n",
      "bpe_model_trainer.cc(268) LOG(INFO) Added: freq=5646 size=580 all=30199 active=3999 piece=▁now\n",
      "bpe_model_trainer.cc(268) LOG(INFO) Added: freq=5411 size=600 all=30833 active=4633 piece=▁des\n",
      "bpe_model_trainer.cc(159) LOG(INFO) Updating active symbols. max_freq=5404 min_freq=938\n",
      "bpe_model_trainer.cc(268) LOG(INFO) Added: freq=5177 size=620 all=31396 active=2058 piece=▁You\n",
      "bpe_model_trainer.cc(268) LOG(INFO) Added: freq=4990 size=640 all=32061 active=2723 piece=fa\n",
      "bpe_model_trainer.cc(268) LOG(INFO) Added: freq=4776 size=660 all=32657 active=3319 piece=ord\n",
      "bpe_model_trainer.cc(268) LOG(INFO) Added: freq=4554 size=680 all=33103 active=3765 piece=port\n",
      "bpe_model_trainer.cc(268) LOG(INFO) Added: freq=4438 size=700 all=33714 active=4376 piece=▁eas\n",
      "bpe_model_trainer.cc(159) LOG(INFO) Updating active symbols. max_freq=4434 min_freq=809\n",
      "bpe_model_trainer.cc(268) LOG(INFO) Added: freq=4264 size=720 all=34280 active=2231 piece=ia\n",
      "bpe_model_trainer.cc(268) LOG(INFO) Added: freq=4118 size=740 all=34909 active=2860 piece=▁dont\n",
      "bpe_model_trainer.cc(268) LOG(INFO) Added: freq=4022 size=760 all=35605 active=3556 piece=▁win\n",
      "bpe_model_trainer.cc(268) LOG(INFO) Added: freq=3869 size=780 all=36023 active=3974 piece=▁animals\n",
      "bpe_model_trainer.cc(268) LOG(INFO) Added: freq=3719 size=800 all=36422 active=4373 piece=▁voting\n",
      "bpe_model_trainer.cc(159) LOG(INFO) Updating active symbols. max_freq=3707 min_freq=662\n",
      "bpe_model_trainer.cc(268) LOG(INFO) Added: freq=3580 size=820 all=36846 active=2244 piece=▁shows\n",
      "bpe_model_trainer.cc(268) LOG(INFO) Added: freq=3469 size=840 all=37311 active=2709 piece=▁Coding\n",
      "bpe_model_trainer.cc(268) LOG(INFO) Added: freq=3390 size=860 all=37639 active=3037 piece=▁happy\n",
      "bpe_model_trainer.cc(268) LOG(INFO) Added: freq=3275 size=880 all=38123 active=3521 piece=ron\n",
      "bpe_model_trainer.cc(268) LOG(INFO) Added: freq=3145 size=900 all=38611 active=4009 piece=sel\n",
      "bpe_model_trainer.cc(159) LOG(INFO) Updating active symbols. max_freq=3144 min_freq=586\n",
      "bpe_model_trainer.cc(268) LOG(INFO) Added: freq=3075 size=920 all=39126 active=2412 piece=▁bored\n",
      "bpe_model_trainer.cc(268) LOG(INFO) Added: freq=2988 size=940 all=39526 active=2812 piece=▁after\n",
      "bpe_model_trainer.cc(268) LOG(INFO) Added: freq=2913 size=960 all=40090 active=3376 piece=ather\n",
      "bpe_model_trainer.cc(268) LOG(INFO) Added: freq=2844 size=980 all=40369 active=3655 piece=▁4\n",
      "bpe_model_trainer.cc(268) LOG(INFO) Added: freq=2754 size=1000 all=40691 active=3977 piece=▁thought\n",
      "bpe_model_trainer.cc(159) LOG(INFO) Updating active symbols. max_freq=2752 min_freq=519\n",
      "bpe_model_trainer.cc(268) LOG(INFO) Added: freq=2687 size=1020 all=41097 active=2435 piece=▁mod\n",
      "bpe_model_trainer.cc(268) LOG(INFO) Added: freq=2629 size=1040 all=41352 active=2690 piece=▁makes\n",
      "bpe_model_trainer.cc(268) LOG(INFO) Added: freq=2540 size=1060 all=41847 active=3185 piece=▁ban\n",
      "bpe_model_trainer.cc(268) LOG(INFO) Added: freq=2455 size=1080 all=42314 active=3652 piece=▁valuable\n",
      "bpe_model_trainer.cc(268) LOG(INFO) Added: freq=2412 size=1100 all=42928 active=4266 piece=▁chang\n",
      "bpe_model_trainer.cc(159) LOG(INFO) Updating active symbols. max_freq=2402 min_freq=459\n",
      "bpe_model_trainer.cc(268) LOG(INFO) Added: freq=2337 size=1120 all=43300 active=2507 piece=ility\n",
      "bpe_model_trainer.cc(268) LOG(INFO) Added: freq=2233 size=1140 all=43613 active=2820 piece=▁clear\n",
      "bpe_model_trainer.cc(268) LOG(INFO) Added: freq=2171 size=1160 all=44179 active=3386 piece=▁likely\n",
      "bpe_model_trainer.cc(268) LOG(INFO) Added: freq=2131 size=1180 all=44616 active=3823 piece=▁second\n",
      "bpe_model_trainer.cc(268) LOG(INFO) Added: freq=2071 size=1200 all=44963 active=4170 piece=▁pursuit\n",
      "bpe_model_trainer.cc(159) LOG(INFO) Updating active symbols. max_freq=2068 min_freq=407\n",
      "bpe_model_trainer.cc(268) LOG(INFO) Added: freq=2018 size=1220 all=45199 active=2484 piece=like\n",
      "bpe_model_trainer.cc(268) LOG(INFO) Added: freq=1941 size=1240 all=45671 active=2956 piece=▁next\n",
      "bpe_model_trainer.cc(268) LOG(INFO) Added: freq=1891 size=1260 all=46053 active=3338 piece=▁mach\n",
      "bpe_model_trainer.cc(268) LOG(INFO) Added: freq=1837 size=1280 all=46231 active=3516 piece=▁small\n",
      "bpe_model_trainer.cc(268) LOG(INFO) Added: freq=1803 size=1300 all=46554 active=3839 piece=▁here\n",
      "bpe_model_trainer.cc(159) LOG(INFO) Updating active symbols. max_freq=1802 min_freq=369\n",
      "bpe_model_trainer.cc(268) LOG(INFO) Added: freq=1756 size=1320 all=46832 active=2600 piece=▁Huang\n",
      "bpe_model_trainer.cc(268) LOG(INFO) Added: freq=1718 size=1340 all=47211 active=2979 piece=no\n",
      "bpe_model_trainer.cc(268) LOG(INFO) Added: freq=1669 size=1360 all=47751 active=3519 piece=▁However\n",
      "bpe_model_trainer.cc(268) LOG(INFO) Added: freq=1613 size=1380 all=48062 active=3830 piece=▁vehicles\n",
      "bpe_model_trainer.cc(268) LOG(INFO) Added: freq=1564 size=1400 all=48352 active=4120 piece=▁opportunity\n",
      "bpe_model_trainer.cc(159) LOG(INFO) Updating active symbols. max_freq=1562 min_freq=337\n",
      "bpe_model_trainer.cc(268) LOG(INFO) Added: freq=1537 size=1420 all=48740 active=2805 piece=▁decre\n",
      "bpe_model_trainer.cc(268) LOG(INFO) Added: freq=1512 size=1440 all=49007 active=3072 piece=▁her\n",
      "bpe_model_trainer.cc(268) LOG(INFO) Added: freq=1476 size=1460 all=49210 active=3275 piece=▁advantages\n",
      "bpe_model_trainer.cc(268) LOG(INFO) Added: freq=1449 size=1480 all=49548 active=3613 piece=▁rather\n",
      "bpe_model_trainer.cc(268) LOG(INFO) Added: freq=1429 size=1500 all=49764 active=3829 piece=urther\n",
      "bpe_model_trainer.cc(159) LOG(INFO) Updating active symbols. max_freq=1427 min_freq=309\n",
      "bpe_model_trainer.cc(268) LOG(INFO) Added: freq=1411 size=1520 all=49921 active=2634 piece=hrenheit\n",
      "bpe_model_trainer.cc(268) LOG(INFO) Added: freq=1385 size=1540 all=50117 active=2830 piece=outh\n",
      "bpe_model_trainer.cc(268) LOG(INFO) Added: freq=1353 size=1560 all=50327 active=3040 piece=▁innov\n",
      "bpe_model_trainer.cc(268) LOG(INFO) Added: freq=1322 size=1580 all=50574 active=3287 piece=▁present\n",
      "bpe_model_trainer.cc(268) LOG(INFO) Added: freq=1307 size=1600 all=50937 active=3650 piece=ush\n",
      "bpe_model_trainer.cc(159) LOG(INFO) Updating active symbols. max_freq=1307 min_freq=286\n",
      "bpe_model_trainer.cc(268) LOG(INFO) Added: freq=1282 size=1620 all=51199 active=2778 piece=▁cool\n",
      "bpe_model_trainer.cc(268) LOG(INFO) Added: freq=1247 size=1640 all=51451 active=3030 piece=▁vide\n",
      "bpe_model_trainer.cc(268) LOG(INFO) Added: freq=1200 size=1660 all=51830 active=3409 piece=ap\n",
      "bpe_model_trainer.cc(268) LOG(INFO) Added: freq=1171 size=1680 all=52282 active=3861 piece=▁represent\n",
      "bpe_model_trainer.cc(268) LOG(INFO) Added: freq=1145 size=1700 all=52522 active=4101 piece=▁K\n",
      "bpe_model_trainer.cc(159) LOG(INFO) Updating active symbols. max_freq=1145 min_freq=262\n",
      "bpe_model_trainer.cc(268) LOG(INFO) Added: freq=1124 size=1720 all=52755 active=2829 piece=stron\n",
      "bpe_model_trainer.cc(268) LOG(INFO) Added: freq=1105 size=1740 all=53081 active=3155 piece=▁boat\n",
      "bpe_model_trainer.cc(268) LOG(INFO) Added: freq=1085 size=1760 all=53401 active=3475 piece=▁coming\n",
      "bpe_model_trainer.cc(268) LOG(INFO) Added: freq=1062 size=1780 all=53582 active=3656 piece=akes\n",
      "bpe_model_trainer.cc(268) LOG(INFO) Added: freq=1036 size=1800 all=53766 active=3840 piece=▁cat\n",
      "bpe_model_trainer.cc(159) LOG(INFO) Updating active symbols. max_freq=1036 min_freq=241\n",
      "bpe_model_trainer.cc(268) LOG(INFO) Added: freq=1019 size=1820 all=53998 active=2899 piece=▁presid\n",
      "bpe_model_trainer.cc(268) LOG(INFO) Added: freq=1002 size=1840 all=54383 active=3284 piece=▁temperatures\n",
      "bpe_model_trainer.cc(268) LOG(INFO) Added: freq=984 size=1860 all=54597 active=3498 piece=▁video\n",
      "bpe_model_trainer.cc(268) LOG(INFO) Added: freq=965 size=1880 all=54881 active=3782 piece=▁No\n",
      "bpe_model_trainer.cc(268) LOG(INFO) Added: freq=952 size=1900 all=55161 active=4062 piece=rence\n",
      "bpe_model_trainer.cc(159) LOG(INFO) Updating active symbols. max_freq=949 min_freq=221\n",
      "bpe_model_trainer.cc(268) LOG(INFO) Added: freq=937 size=1920 all=55423 active=3002 piece=oration\n",
      "bpe_model_trainer.cc(268) LOG(INFO) Added: freq=923 size=1940 all=55679 active=3258 piece=▁heat\n",
      "bpe_model_trainer.cc(268) LOG(INFO) Added: freq=907 size=1960 all=55855 active=3434 piece=▁tie\n",
      "bpe_model_trainer.cc(268) LOG(INFO) Added: freq=894 size=1980 all=56207 active=3786 piece=▁continue\n",
      "bpe_model_trainer.cc(268) LOG(INFO) Added: freq=878 size=2000 all=56457 active=4036 piece=▁speci\n",
      "bpe_model_trainer.cc(159) LOG(INFO) Updating active symbols. max_freq=877 min_freq=207\n",
      "bpe_model_trainer.cc(268) LOG(INFO) Added: freq=863 size=2020 all=56711 active=3071 piece=▁bi\n",
      "bpe_model_trainer.cc(268) LOG(INFO) Added: freq=853 size=2040 all=57067 active=3427 piece=▁valleys\n",
      "bpe_model_trainer.cc(268) LOG(INFO) Added: freq=841 size=2060 all=57166 active=3526 piece=In\n",
      "bpe_model_trainer.cc(268) LOG(INFO) Added: freq=833 size=2080 all=57310 active=3670 piece=▁together\n",
      "bpe_model_trainer.cc(268) LOG(INFO) Added: freq=824 size=2100 all=57517 active=3877 piece=▁60\n",
      "bpe_model_trainer.cc(159) LOG(INFO) Updating active symbols. max_freq=824 min_freq=193\n",
      "bpe_model_trainer.cc(268) LOG(INFO) Added: freq=817 size=2120 all=57688 active=3041 piece=▁decrease\n",
      "bpe_model_trainer.cc(268) LOG(INFO) Added: freq=808 size=2140 all=57833 active=3186 piece=ams\n",
      "bpe_model_trainer.cc(268) LOG(INFO) Added: freq=797 size=2160 all=58022 active=3375 piece=▁proven\n",
      "bpe_model_trainer.cc(268) LOG(INFO) Added: freq=780 size=2180 all=58302 active=3655 piece=agine\n",
      "bpe_model_trainer.cc(268) LOG(INFO) Added: freq=769 size=2200 all=58451 active=3804 piece=▁Would\n",
      "bpe_model_trainer.cc(159) LOG(INFO) Updating active symbols. max_freq=768 min_freq=181\n",
      "bpe_model_trainer.cc(268) LOG(INFO) Added: freq=758 size=2220 all=58585 active=3053 piece=ized\n",
      "bpe_model_trainer.cc(268) LOG(INFO) Added: freq=739 size=2240 all=58937 active=3405 piece=▁reality\n",
      "bpe_model_trainer.cc(268) LOG(INFO) Added: freq=727 size=2260 all=59251 active=3719 piece=▁mechan\n",
      "bpe_model_trainer.cc(268) LOG(INFO) Added: freq=718 size=2280 all=59541 active=4009 piece=▁truth\n",
      "bpe_model_trainer.cc(268) LOG(INFO) Added: freq=704 size=2300 all=59835 active=4303 piece=oss\n",
      "bpe_model_trainer.cc(159) LOG(INFO) Updating active symbols. max_freq=704 min_freq=168\n",
      "bpe_model_trainer.cc(268) LOG(INFO) Added: freq=694 size=2320 all=60081 active=3186 piece=▁bicy\n",
      "bpe_model_trainer.cc(268) LOG(INFO) Added: freq=685 size=2340 all=60238 active=3343 piece=▁accur\n",
      "bpe_model_trainer.cc(268) LOG(INFO) Added: freq=677 size=2360 all=60434 active=3539 piece=▁eff\n",
      "bpe_model_trainer.cc(268) LOG(INFO) Added: freq=667 size=2380 all=60552 active=3657 piece=gan\n",
      "bpe_model_trainer.cc(268) LOG(INFO) Added: freq=659 size=2400 all=60740 active=3845 piece=▁constru\n",
      "bpe_model_trainer.cc(159) LOG(INFO) Updating active symbols. max_freq=659 min_freq=158\n",
      "bpe_model_trainer.cc(268) LOG(INFO) Added: freq=648 size=2420 all=60987 active=3281 piece=▁capt\n",
      "bpe_model_trainer.cc(268) LOG(INFO) Added: freq=640 size=2440 all=61153 active=3447 piece=▁movements\n",
      "bpe_model_trainer.cc(268) LOG(INFO) Added: freq=633 size=2460 all=61215 active=3509 piece=▁ref\n",
      "bpe_model_trainer.cc(268) LOG(INFO) Added: freq=626 size=2480 all=61378 active=3672 piece=▁twin\n",
      "bpe_model_trainer.cc(268) LOG(INFO) Added: freq=614 size=2500 all=61535 active=3829 piece=ability\n",
      "bpe_model_trainer.cc(159) LOG(INFO) Updating active symbols. max_freq=613 min_freq=150\n",
      "bpe_model_trainer.cc(268) LOG(INFO) Added: freq=607 size=2520 all=61917 active=3416 piece=amed\n",
      "bpe_model_trainer.cc(268) LOG(INFO) Added: freq=601 size=2540 all=62096 active=3595 piece=▁higher\n",
      "bpe_model_trainer.cc(268) LOG(INFO) Added: freq=595 size=2560 all=62412 active=3911 piece=▁warm\n",
      "bpe_model_trainer.cc(268) LOG(INFO) Added: freq=590 size=2580 all=62553 active=4052 piece=itution\n",
      "bpe_model_trainer.cc(268) LOG(INFO) Added: freq=583 size=2600 all=62740 active=4239 piece=▁cover\n",
      "bpe_model_trainer.cc(159) LOG(INFO) Updating active symbols. max_freq=583 min_freq=141\n",
      "bpe_model_trainer.cc(268) LOG(INFO) Added: freq=577 size=2620 all=62899 active=3289 piece=▁reduced\n",
      "bpe_model_trainer.cc(268) LOG(INFO) Added: freq=571 size=2640 all=63013 active=3403 piece=▁technolog\n",
      "bpe_model_trainer.cc(268) LOG(INFO) Added: freq=560 size=2660 all=63222 active=3612 piece=▁choosing\n",
      "bpe_model_trainer.cc(268) LOG(INFO) Added: freq=553 size=2680 all=63479 active=3869 piece=▁fake\n",
      "bpe_model_trainer.cc(268) LOG(INFO) Added: freq=546 size=2700 all=63565 active=3955 piece=▁meters\n",
      "bpe_model_trainer.cc(159) LOG(INFO) Updating active symbols. max_freq=546 min_freq=134\n",
      "bpe_model_trainer.cc(268) LOG(INFO) Added: freq=535 size=2720 all=63715 active=3329 piece=idden\n",
      "bpe_model_trainer.cc(268) LOG(INFO) Added: freq=530 size=2740 all=63851 active=3465 piece=▁faster\n",
      "bpe_model_trainer.cc(268) LOG(INFO) Added: freq=524 size=2760 all=64079 active=3693 piece=▁types\n",
      "bpe_model_trainer.cc(268) LOG(INFO) Added: freq=518 size=2780 all=64143 active=3757 piece=ulture\n",
      "bpe_model_trainer.cc(268) LOG(INFO) Added: freq=511 size=2800 all=64297 active=3911 piece=ric\n",
      "bpe_model_trainer.cc(159) LOG(INFO) Updating active symbols. max_freq=511 min_freq=127\n",
      "bpe_model_trainer.cc(268) LOG(INFO) Added: freq=506 size=2820 all=64495 active=3349 piece=▁edges\n",
      "bpe_model_trainer.cc(268) LOG(INFO) Added: freq=499 size=2840 all=64614 active=3468 piece=asa\n",
      "bpe_model_trainer.cc(268) LOG(INFO) Added: freq=497 size=2860 all=64689 active=3543 piece=▁disagree\n",
      "bpe_model_trainer.cc(268) LOG(INFO) Added: freq=493 size=2880 all=64811 active=3665 piece=▁movement\n",
      "bpe_model_trainer.cc(268) LOG(INFO) Added: freq=487 size=2900 all=65001 active=3855 piece=▁joined\n",
      "bpe_model_trainer.cc(159) LOG(INFO) Updating active symbols. max_freq=487 min_freq=121\n",
      "bpe_model_trainer.cc(268) LOG(INFO) Added: freq=482 size=2920 all=65269 active=3519 piece=▁Middle\n",
      "bpe_model_trainer.cc(268) LOG(INFO) Added: freq=477 size=2940 all=65395 active=3645 piece=▁device\n",
      "bpe_model_trainer.cc(268) LOG(INFO) Added: freq=469 size=2960 all=65506 active=3756 piece=▁100\n",
      "bpe_model_trainer.cc(268) LOG(INFO) Added: freq=462 size=2980 all=65612 active=3862 piece=osen\n",
      "bpe_model_trainer.cc(268) LOG(INFO) Added: freq=457 size=3000 all=65689 active=3939 piece=▁fray\n",
      "bpe_model_trainer.cc(159) LOG(INFO) Updating active symbols. max_freq=457 min_freq=115\n",
      "bpe_model_trainer.cc(268) LOG(INFO) Added: freq=452 size=3020 all=65763 active=3359 piece=▁quality\n",
      "bpe_model_trainer.cc(268) LOG(INFO) Added: freq=446 size=3040 all=65917 active=3513 piece=ichard\n",
      "bpe_model_trainer.cc(268) LOG(INFO) Added: freq=442 size=3060 all=66083 active=3679 piece=ilities\n",
      "bpe_model_trainer.cc(268) LOG(INFO) Added: freq=438 size=3080 all=66308 active=3904 piece=▁swing\n",
      "bpe_model_trainer.cc(268) LOG(INFO) Added: freq=433 size=3100 all=66418 active=4014 piece=▁strikes\n",
      "bpe_model_trainer.cc(159) LOG(INFO) Updating active symbols. max_freq=432 min_freq=110\n",
      "bpe_model_trainer.cc(268) LOG(INFO) Added: freq=428 size=3120 all=66544 active=3447 piece=▁intern\n",
      "bpe_model_trainer.cc(268) LOG(INFO) Added: freq=424 size=3140 all=66677 active=3580 piece=▁entertainment\n",
      "bpe_model_trainer.cc(268) LOG(INFO) Added: freq=419 size=3160 all=66737 active=3640 piece=ME\n",
      "bpe_model_trainer.cc(268) LOG(INFO) Added: freq=416 size=3180 all=67013 active=3916 piece=▁disgusted\n",
      "bpe_model_trainer.cc(268) LOG(INFO) Added: freq=410 size=3200 all=67286 active=4189 piece=uments\n",
      "bpe_model_trainer.cc(159) LOG(INFO) Updating active symbols. max_freq=410 min_freq=104\n",
      "bpe_model_trainer.cc(268) LOG(INFO) Added: freq=404 size=3220 all=67530 active=3598 piece=▁apply\n",
      "bpe_model_trainer.cc(268) LOG(INFO) Added: freq=401 size=3240 all=67668 active=3736 piece=uch\n",
      "bpe_model_trainer.cc(268) LOG(INFO) Added: freq=397 size=3260 all=67882 active=3950 piece=▁diffrent\n",
      "bpe_model_trainer.cc(268) LOG(INFO) Added: freq=392 size=3280 all=67980 active=4048 piece=▁GP\n",
      "bpe_model_trainer.cc(268) LOG(INFO) Added: freq=389 size=3300 all=68074 active=4142 piece=▁8,\n",
      "bpe_model_trainer.cc(159) LOG(INFO) Updating active symbols. max_freq=389 min_freq=98\n",
      "bpe_model_trainer.cc(268) LOG(INFO) Added: freq=384 size=3320 all=68177 active=3505 piece=▁Planet\n",
      "bpe_model_trainer.cc(268) LOG(INFO) Added: freq=380 size=3340 all=68345 active=3673 piece=elsky\n",
      "bpe_model_trainer.cc(268) LOG(INFO) Added: freq=377 size=3360 all=68524 active=3852 piece=▁expert\n",
      "bpe_model_trainer.cc(268) LOG(INFO) Added: freq=373 size=3380 all=68615 active=3943 piece=ipped\n",
      "bpe_model_trainer.cc(268) LOG(INFO) Added: freq=369 size=3400 all=68728 active=4056 piece=▁legal\n",
      "bpe_model_trainer.cc(159) LOG(INFO) Updating active symbols. max_freq=369 min_freq=94\n",
      "bpe_model_trainer.cc(268) LOG(INFO) Added: freq=365 size=3420 all=68843 active=3544 piece=▁indust\n",
      "bpe_model_trainer.cc(268) LOG(INFO) Added: freq=360 size=3440 all=68939 active=3640 piece=acks\n",
      "bpe_model_trainer.cc(268) LOG(INFO) Added: freq=356 size=3460 all=69106 active=3807 piece=▁Once\n",
      "bpe_model_trainer.cc(268) LOG(INFO) Added: freq=353 size=3480 all=69250 active=3951 piece=aks\n",
      "bpe_model_trainer.cc(268) LOG(INFO) Added: freq=350 size=3500 all=69380 active=4081 piece=gey\n",
      "bpe_model_trainer.cc(159) LOG(INFO) Updating active symbols. max_freq=350 min_freq=90\n",
      "bpe_model_trainer.cc(268) LOG(INFO) Added: freq=348 size=3520 all=69456 active=3535 piece=▁reminds\n",
      "bpe_model_trainer.cc(268) LOG(INFO) Added: freq=344 size=3540 all=69527 active=3606 piece=▁post\n",
      "bpe_model_trainer.cc(268) LOG(INFO) Added: freq=340 size=3560 all=69740 active=3819 piece=▁Monday\n",
      "bpe_model_trainer.cc(268) LOG(INFO) Added: freq=337 size=3580 all=69925 active=4004 piece=oline\n",
      "bpe_model_trainer.cc(268) LOG(INFO) Added: freq=334 size=3600 all=69955 active=4034 piece=▁function\n",
      "bpe_model_trainer.cc(159) LOG(INFO) Updating active symbols. max_freq=334 min_freq=87\n",
      "bpe_model_trainer.cc(268) LOG(INFO) Added: freq=330 size=3620 all=70093 active=3628 piece=safe\n",
      "bpe_model_trainer.cc(268) LOG(INFO) Added: freq=327 size=3640 all=70199 active=3734 piece=▁convin\n",
      "bpe_model_trainer.cc(268) LOG(INFO) Added: freq=324 size=3660 all=70279 active=3814 piece=▁manufact\n",
      "bpe_model_trainer.cc(268) LOG(INFO) Added: freq=321 size=3680 all=70462 active=3997 piece=▁destroy\n",
      "bpe_model_trainer.cc(268) LOG(INFO) Added: freq=317 size=3700 all=70492 active=4027 piece=efully\n",
      "bpe_model_trainer.cc(159) LOG(INFO) Updating active symbols. max_freq=317 min_freq=83\n",
      "bpe_model_trainer.cc(268) LOG(INFO) Added: freq=313 size=3720 all=70585 active=3615 piece=▁Duffer\n",
      "bpe_model_trainer.cc(268) LOG(INFO) Added: freq=310 size=3740 all=70795 active=3825 piece=▁storms\n",
      "bpe_model_trainer.cc(268) LOG(INFO) Added: freq=307 size=3760 all=70885 active=3915 piece=▁began\n",
      "bpe_model_trainer.cc(268) LOG(INFO) Added: freq=304 size=3780 all=70999 active=4029 piece=▁plenty\n",
      "bpe_model_trainer.cc(268) LOG(INFO) Added: freq=301 size=3800 all=71152 active=4182 piece=▁sud\n",
      "bpe_model_trainer.cc(159) LOG(INFO) Updating active symbols. max_freq=301 min_freq=80\n",
      "bpe_model_trainer.cc(268) LOG(INFO) Added: freq=299 size=3820 all=71234 active=3628 piece=▁tournaments\n",
      "bpe_model_trainer.cc(268) LOG(INFO) Added: freq=295 size=3840 all=71336 active=3730 piece=▁avail\n",
      "bpe_model_trainer.cc(268) LOG(INFO) Added: freq=291 size=3860 all=71525 active=3919 piece=▁lat\n",
      "bpe_model_trainer.cc(268) LOG(INFO) Added: freq=289 size=3880 all=71633 active=4027 piece=▁thirty\n",
      "bpe_model_trainer.cc(268) LOG(INFO) Added: freq=286 size=3900 all=71778 active=4172 piece=▁craft\n",
      "bpe_model_trainer.cc(159) LOG(INFO) Updating active symbols. max_freq=286 min_freq=77\n",
      "bpe_model_trainer.cc(268) LOG(INFO) Added: freq=282 size=3920 all=71924 active=3731 piece=▁vice\n",
      "bpe_model_trainer.cc(268) LOG(INFO) Added: freq=280 size=3940 all=71996 active=3803 piece=▁highway\n",
      "bpe_model_trainer.cc(268) LOG(INFO) Added: freq=276 size=3960 all=72111 active=3918 piece=▁shopping\n",
      "bpe_model_trainer.cc(268) LOG(INFO) Added: freq=272 size=3980 all=72209 active=4016 piece=duct\n",
      "bpe_model_trainer.cc(268) LOG(INFO) Added: freq=270 size=4000 all=72278 active=4085 piece=▁anat\n",
      "bpe_model_trainer.cc(159) LOG(INFO) Updating active symbols. max_freq=270 min_freq=74\n",
      "bpe_model_trainer.cc(268) LOG(INFO) Added: freq=268 size=4020 all=72432 active=3763 piece=olly\n",
      "bpe_model_trainer.cc(268) LOG(INFO) Added: freq=265 size=4040 all=72612 active=3943 piece=▁avoids\n",
      "bpe_model_trainer.cc(268) LOG(INFO) Added: freq=262 size=4060 all=72674 active=4005 piece=▁edge\n",
      "bpe_model_trainer.cc(268) LOG(INFO) Added: freq=260 size=4080 all=72740 active=4071 piece=▁compelling\n",
      "bpe_model_trainer.cc(268) LOG(INFO) Added: freq=257 size=4100 all=72893 active=4224 piece=friendly\n",
      "bpe_model_trainer.cc(159) LOG(INFO) Updating active symbols. max_freq=257 min_freq=71\n",
      "bpe_model_trainer.cc(268) LOG(INFO) Added: freq=255 size=4120 all=72977 active=3726 piece=▁unbel\n",
      "bpe_model_trainer.cc(268) LOG(INFO) Added: freq=253 size=4140 all=73112 active=3861 piece=intensive\n",
      "bpe_model_trainer.cc(268) LOG(INFO) Added: freq=251 size=4160 all=73244 active=3993 piece=▁mom\n",
      "bpe_model_trainer.cc(268) LOG(INFO) Added: freq=248 size=4180 all=73301 active=4050 piece=▁grate\n",
      "bpe_model_trainer.cc(268) LOG(INFO) Added: freq=245 size=4200 all=73360 active=4109 piece=ilot\n",
      "bpe_model_trainer.cc(159) LOG(INFO) Updating active symbols. max_freq=245 min_freq=68\n",
      "bpe_model_trainer.cc(268) LOG(INFO) Added: freq=243 size=4220 all=73405 active=3705 piece=▁constitution\n",
      "bpe_model_trainer.cc(268) LOG(INFO) Added: freq=241 size=4240 all=73567 active=3867 piece=▁besides\n",
      "bpe_model_trainer.cc(268) LOG(INFO) Added: freq=238 size=4260 all=73654 active=3954 piece=▁america\n",
      "bpe_model_trainer.cc(268) LOG(INFO) Added: freq=236 size=4280 all=73730 active=4030 piece=▁dramatically\n",
      "bpe_model_trainer.cc(268) LOG(INFO) Added: freq=234 size=4300 all=73819 active=4119 piece=▁advances\n",
      "bpe_model_trainer.cc(159) LOG(INFO) Updating active symbols. max_freq=233 min_freq=66\n",
      "bpe_model_trainer.cc(268) LOG(INFO) Added: freq=231 size=4320 all=73894 active=3765 piece=▁Mot\n",
      "bpe_model_trainer.cc(268) LOG(INFO) Added: freq=228 size=4340 all=73978 active=3849 piece=uage\n",
      "bpe_model_trainer.cc(268) LOG(INFO) Added: freq=226 size=4360 all=74082 active=3953 piece=▁activity\n",
      "bpe_model_trainer.cc(268) LOG(INFO) Added: freq=224 size=4380 all=74194 active=4065 piece=▁compare\n",
      "bpe_model_trainer.cc(268) LOG(INFO) Added: freq=221 size=4400 all=74349 active=4220 piece=▁attract\n",
      "bpe_model_trainer.cc(159) LOG(INFO) Updating active symbols. max_freq=221 min_freq=63\n",
      "bpe_model_trainer.cc(268) LOG(INFO) Added: freq=219 size=4420 all=74441 active=3805 piece=icals\n",
      "bpe_model_trainer.cc(268) LOG(INFO) Added: freq=217 size=4440 all=74554 active=3918 piece=▁breathe\n",
      "bpe_model_trainer.cc(268) LOG(INFO) Added: freq=215 size=4460 all=74629 active=3993 piece=▁fat\n",
      "bpe_model_trainer.cc(268) LOG(INFO) Added: freq=214 size=4480 all=74754 active=4118 piece=▁Driver\n",
      "bpe_model_trainer.cc(268) LOG(INFO) Added: freq=212 size=4500 all=74832 active=4196 piece=▁fixed\n",
      "bpe_model_trainer.cc(159) LOG(INFO) Updating active symbols. max_freq=212 min_freq=61\n",
      "bpe_model_trainer.cc(268) LOG(INFO) Added: freq=211 size=4520 all=74924 active=3834 piece=▁sudden\n",
      "bpe_model_trainer.cc(268) LOG(INFO) Added: freq=209 size=4540 all=75028 active=3938 piece=▁South\n",
      "bpe_model_trainer.cc(268) LOG(INFO) Added: freq=208 size=4560 all=75137 active=4047 piece=▁units\n",
      "bpe_model_trainer.cc(268) LOG(INFO) Added: freq=206 size=4580 all=75346 active=4256 piece=▁hired\n",
      "bpe_model_trainer.cc(268) LOG(INFO) Added: freq=204 size=4600 all=75540 active=4450 piece=▁sights\n",
      "bpe_model_trainer.cc(159) LOG(INFO) Updating active symbols. max_freq=204 min_freq=59\n",
      "bpe_model_trainer.cc(268) LOG(INFO) Added: freq=203 size=4620 all=75632 active=3869 piece=▁controll\n",
      "bpe_model_trainer.cc(268) LOG(INFO) Added: freq=200 size=4640 all=75773 active=4010 piece=▁promoting\n",
      "bpe_model_trainer.cc(268) LOG(INFO) Added: freq=198 size=4660 all=75861 active=4098 piece=anced\n",
      "bpe_model_trainer.cc(268) LOG(INFO) Added: freq=196 size=4680 all=75985 active=4222 piece=astic\n",
      "bpe_model_trainer.cc(268) LOG(INFO) Added: freq=195 size=4700 all=76137 active=4374 piece=▁Hollywood\n",
      "bpe_model_trainer.cc(159) LOG(INFO) Updating active symbols. max_freq=195 min_freq=56\n",
      "bpe_model_trainer.cc(268) LOG(INFO) Added: freq=193 size=4720 all=76264 active=3932 piece=▁conse\n",
      "bpe_model_trainer.cc(268) LOG(INFO) Added: freq=191 size=4740 all=76318 active=3986 piece=▁60%\n",
      "bpe_model_trainer.cc(268) LOG(INFO) Added: freq=190 size=4760 all=76438 active=4106 piece=▁lad\n",
      "bpe_model_trainer.cc(268) LOG(INFO) Added: freq=189 size=4780 all=76520 active=4188 piece=▁seemed\n",
      "bpe_model_trainer.cc(268) LOG(INFO) Added: freq=187 size=4800 all=76622 active=4290 piece=▁responsibility\n",
      "bpe_model_trainer.cc(159) LOG(INFO) Updating active symbols. max_freq=186 min_freq=55\n",
      "bpe_model_trainer.cc(268) LOG(INFO) Added: freq=185 size=4820 all=76755 active=3964 piece=▁flexible\n",
      "bpe_model_trainer.cc(268) LOG(INFO) Added: freq=183 size=4840 all=76848 active=4057 piece=▁contr\n",
      "bpe_model_trainer.cc(268) LOG(INFO) Added: freq=181 size=4860 all=77071 active=4280 piece=.\".\n",
      "bpe_model_trainer.cc(268) LOG(INFO) Added: freq=180 size=4880 all=77130 active=4339 piece=val\n",
      "bpe_model_trainer.cc(268) LOG(INFO) Added: freq=178 size=4900 all=77210 active=4419 piece=▁scen\n",
      "bpe_model_trainer.cc(159) LOG(INFO) Updating active symbols. max_freq=178 min_freq=53\n",
      "bpe_model_trainer.cc(268) LOG(INFO) Added: freq=177 size=4920 all=77319 active=3961 piece=▁emergency\n",
      "bpe_model_trainer.cc(268) LOG(INFO) Added: freq=175 size=4940 all=77436 active=4078 piece=▁Tuesday\n",
      "bpe_model_trainer.cc(268) LOG(INFO) Added: freq=173 size=4960 all=77467 active=4109 piece=rated\n",
      "bpe_model_trainer.cc(268) LOG(INFO) Added: freq=172 size=4980 all=77589 active=4231 piece=arer\n",
      "bpe_model_trainer.cc(268) LOG(INFO) Added: freq=171 size=5000 all=77676 active=4318 piece=▁feet\n",
      "bpe_model_trainer.cc(159) LOG(INFO) Updating active symbols. max_freq=171 min_freq=51\n",
      "bpe_model_trainer.cc(268) LOG(INFO) Added: freq=169 size=5020 all=77796 active=4004 piece=▁tons\n",
      "bpe_model_trainer.cc(268) LOG(INFO) Added: freq=168 size=5040 all=77839 active=4047 piece=▁democracy\n",
      "bpe_model_trainer.cc(268) LOG(INFO) Added: freq=166 size=5060 all=77859 active=4067 piece=▁imm\n",
      "bpe_model_trainer.cc(268) LOG(INFO) Added: freq=165 size=5080 all=77985 active=4193 piece=▁paper\n",
      "bpe_model_trainer.cc(268) LOG(INFO) Added: freq=164 size=5100 all=78074 active=4282 piece=▁earths\n",
      "bpe_model_trainer.cc(159) LOG(INFO) Updating active symbols. max_freq=164 min_freq=49\n",
      "bpe_model_trainer.cc(268) LOG(INFO) Added: freq=162 size=5120 all=78116 active=3946 piece=fety\n",
      "bpe_model_trainer.cc(268) LOG(INFO) Added: freq=161 size=5140 all=78225 active=4055 piece=▁precise\n",
      "bpe_model_trainer.cc(268) LOG(INFO) Added: freq=160 size=5160 all=78281 active=4111 piece=▁techonology\n",
      "bpe_model_trainer.cc(268) LOG(INFO) Added: freq=158 size=5180 all=78393 active=4223 piece=recogn\n",
      "bpe_model_trainer.cc(268) LOG(INFO) Added: freq=157 size=5200 all=78435 active=4265 piece=▁stret\n",
      "bpe_model_trainer.cc(159) LOG(INFO) Updating active symbols. max_freq=157 min_freq=48\n",
      "bpe_model_trainer.cc(268) LOG(INFO) Added: freq=156 size=5220 all=78577 active=4061 piece=▁Pollution\n",
      "bpe_model_trainer.cc(268) LOG(INFO) Added: freq=154 size=5240 all=78676 active=4160 piece=▁ult\n",
      "bpe_model_trainer.cc(268) LOG(INFO) Added: freq=153 size=5260 all=78787 active=4271 piece=when\n",
      "bpe_model_trainer.cc(268) LOG(INFO) Added: freq=152 size=5280 all=78874 active=4358 piece=▁ozone\n",
      "bpe_model_trainer.cc(268) LOG(INFO) Added: freq=151 size=5300 all=78968 active=4452 piece=▁tough\n",
      "bpe_model_trainer.cc(159) LOG(INFO) Updating active symbols. max_freq=151 min_freq=46\n",
      "bpe_model_trainer.cc(268) LOG(INFO) Added: freq=150 size=5320 all=79046 active=4021 piece=▁Solar\n",
      "bpe_model_trainer.cc(268) LOG(INFO) Added: freq=149 size=5340 all=79188 active=4163 piece=▁hate\n",
      "bpe_model_trainer.cc(268) LOG(INFO) Added: freq=148 size=5360 all=79280 active=4255 piece=ential\n",
      "bpe_model_trainer.cc(268) LOG(INFO) Added: freq=147 size=5380 all=79411 active=4386 piece=▁devoid\n",
      "bpe_model_trainer.cc(268) LOG(INFO) Added: freq=146 size=5400 all=79517 active=4492 piece=▁expected\n",
      "bpe_model_trainer.cc(159) LOG(INFO) Updating active symbols. max_freq=145 min_freq=45\n",
      "bpe_model_trainer.cc(268) LOG(INFO) Added: freq=145 size=5420 all=79599 active=4058 piece=ionally\n",
      "bpe_model_trainer.cc(268) LOG(INFO) Added: freq=144 size=5440 all=79714 active=4173 piece=▁stayed\n",
      "bpe_model_trainer.cc(268) LOG(INFO) Added: freq=143 size=5460 all=79824 active=4283 piece=▁notes\n",
      "bpe_model_trainer.cc(268) LOG(INFO) Added: freq=141 size=5480 all=79905 active=4364 piece=hum\n",
      "bpe_model_trainer.cc(268) LOG(INFO) Added: freq=140 size=5500 all=80010 active=4469 piece=▁dark\n",
      "bpe_model_trainer.cc(159) LOG(INFO) Updating active symbols. max_freq=140 min_freq=43\n",
      "bpe_model_trainer.cc(268) LOG(INFO) Added: freq=139 size=5520 all=80084 active=4072 piece=▁dying\n",
      "bpe_model_trainer.cc(268) LOG(INFO) Added: freq=138 size=5540 all=80156 active=4144 piece=▁quotes\n",
      "bpe_model_trainer.cc(268) LOG(INFO) Added: freq=137 size=5560 all=80220 active=4208 piece=osphere\n",
      "bpe_model_trainer.cc(268) LOG(INFO) Added: freq=136 size=5580 all=80359 active=4347 piece=kind\n",
      "bpe_model_trainer.cc(268) LOG(INFO) Added: freq=135 size=5600 all=80471 active=4459 piece=ledged\n",
      "bpe_model_trainer.cc(159) LOG(INFO) Updating active symbols. max_freq=135 min_freq=42\n",
      "bpe_model_trainer.cc(268) LOG(INFO) Added: freq=134 size=5620 all=80562 active=4110 piece=▁Jimmy\n",
      "bpe_model_trainer.cc(268) LOG(INFO) Added: freq=133 size=5640 all=80619 active=4167 piece=wered\n",
      "bpe_model_trainer.cc(268) LOG(INFO) Added: freq=132 size=5660 all=80733 active=4281 piece=▁whose\n",
      "bpe_model_trainer.cc(268) LOG(INFO) Added: freq=131 size=5680 all=80804 active=4352 piece=▁stronger\n",
      "bpe_model_trainer.cc(268) LOG(INFO) Added: freq=129 size=5700 all=80855 active=4403 piece=▁dow\n",
      "bpe_model_trainer.cc(159) LOG(INFO) Updating active symbols. max_freq=129 min_freq=41\n",
      "bpe_model_trainer.cc(268) LOG(INFO) Added: freq=128 size=5720 all=80903 active=4087 piece=▁misle\n",
      "bpe_model_trainer.cc(268) LOG(INFO) Added: freq=127 size=5740 all=80984 active=4168 piece=▁Both\n",
      "bpe_model_trainer.cc(268) LOG(INFO) Added: freq=126 size=5760 all=81089 active=4273 piece=there\n",
      "bpe_model_trainer.cc(268) LOG(INFO) Added: freq=125 size=5780 all=81108 active=4292 piece=aii\n",
      "bpe_model_trainer.cc(268) LOG(INFO) Added: freq=125 size=5800 all=81226 active=4410 piece=calculation\n",
      "bpe_model_trainer.cc(159) LOG(INFO) Updating active symbols. max_freq=125 min_freq=39\n",
      "bpe_model_trainer.cc(268) LOG(INFO) Added: freq=124 size=5820 all=81382 active=4217 piece=▁engines\n",
      "bpe_model_trainer.cc(268) LOG(INFO) Added: freq=123 size=5840 all=81492 active=4327 piece=▁maintain\n",
      "bpe_model_trainer.cc(268) LOG(INFO) Added: freq=122 size=5860 all=81559 active=4394 piece=▁centered\n",
      "bpe_model_trainer.cc(268) LOG(INFO) Added: freq=121 size=5880 all=81668 active=4503 piece=▁lowering\n",
      "bpe_model_trainer.cc(268) LOG(INFO) Added: freq=120 size=5900 all=81709 active=4544 piece=▁laziness\n",
      "bpe_model_trainer.cc(159) LOG(INFO) Updating active symbols. max_freq=120 min_freq=38\n",
      "bpe_model_trainer.cc(268) LOG(INFO) Added: freq=119 size=5920 all=81775 active=4152 piece=▁favors\n",
      "bpe_model_trainer.cc(268) LOG(INFO) Added: freq=118 size=5940 all=81817 active=4194 piece=▁eerily\n",
      "bpe_model_trainer.cc(268) LOG(INFO) Added: freq=117 size=5960 all=81970 active=4347 piece=▁spee\n",
      "bpe_model_trainer.cc(268) LOG(INFO) Added: freq=116 size=5980 all=82006 active=4383 piece=▁smoke\n",
      "bpe_model_trainer.cc(268) LOG(INFO) Added: freq=115 size=6000 all=82089 active=4466 piece=▁manual\n",
      "bpe_model_trainer.cc(159) LOG(INFO) Updating active symbols. max_freq=115 min_freq=37\n",
      "bpe_model_trainer.cc(268) LOG(INFO) Added: freq=114 size=6020 all=82158 active=4173 piece=illions\n",
      "bpe_model_trainer.cc(268) LOG(INFO) Added: freq=113 size=6040 all=82234 active=4249 piece=▁throw\n",
      "bpe_model_trainer.cc(268) LOG(INFO) Added: freq=112 size=6060 all=82302 active=4317 piece=▁span\n",
      "bpe_model_trainer.cc(268) LOG(INFO) Added: freq=111 size=6080 all=82343 active=4358 piece=▁\".\n",
      "bpe_model_trainer.cc(268) LOG(INFO) Added: freq=110 size=6100 all=82444 active=4459 piece=ma\n",
      "bpe_model_trainer.cc(159) LOG(INFO) Updating active symbols. max_freq=110 min_freq=36\n",
      "bpe_model_trainer.cc(268) LOG(INFO) Added: freq=109 size=6120 all=82563 active=4207 piece=ailed\n",
      "bpe_model_trainer.cc(268) LOG(INFO) Added: freq=109 size=6140 all=82603 active=4247 piece=▁interpret\n",
      "bpe_model_trainer.cc(268) LOG(INFO) Added: freq=108 size=6160 all=82694 active=4338 piece=▁funding\n",
      "bpe_model_trainer.cc(268) LOG(INFO) Added: freq=107 size=6180 all=82758 active=4402 piece=▁bound\n",
      "bpe_model_trainer.cc(268) LOG(INFO) Added: freq=106 size=6200 all=82941 active=4585 piece=road\n",
      "bpe_model_trainer.cc(159) LOG(INFO) Updating active symbols. max_freq=106 min_freq=35\n",
      "bpe_model_trainer.cc(268) LOG(INFO) Added: freq=105 size=6220 all=83058 active=4249 piece=▁1)\n",
      "bpe_model_trainer.cc(268) LOG(INFO) Added: freq=104 size=6240 all=83097 active=4288 piece=▁calm\n",
      "bpe_model_trainer.cc(268) LOG(INFO) Added: freq=103 size=6260 all=83175 active=4366 piece=▁MOC\n",
      "bpe_model_trainer.cc(268) LOG(INFO) Added: freq=102 size=6280 all=83270 active=4461 piece=urate\n",
      "bpe_model_trainer.cc(268) LOG(INFO) Added: freq=101 size=6300 all=83434 active=4625 piece=ivity\n",
      "bpe_model_trainer.cc(159) LOG(INFO) Updating active symbols. max_freq=101 min_freq=34\n",
      "bpe_model_trainer.cc(268) LOG(INFO) Added: freq=101 size=6320 all=83457 active=4181 piece=▁announces\n",
      "bpe_model_trainer.cc(268) LOG(INFO) Added: freq=100 size=6340 all=83633 active=4357 piece=asearch\n",
      "bpe_model_trainer.cc(268) LOG(INFO) Added: freq=99 size=6360 all=83692 active=4416 piece=▁oris\n",
      "bpe_model_trainer.cc(268) LOG(INFO) Added: freq=99 size=6380 all=83700 active=4424 piece=▁ultimately\n",
      "bpe_model_trainer.cc(268) LOG(INFO) Added: freq=98 size=6400 all=83758 active=4482 piece=▁scores\n",
      "bpe_model_trainer.cc(159) LOG(INFO) Updating active symbols. max_freq=98 min_freq=33\n",
      "bpe_model_trainer.cc(268) LOG(INFO) Added: freq=97 size=6420 all=83783 active=4213 piece=▁dic\n",
      "bpe_model_trainer.cc(268) LOG(INFO) Added: freq=97 size=6440 all=83895 active=4325 piece=▁videos\n",
      "bpe_model_trainer.cc(268) LOG(INFO) Added: freq=96 size=6460 all=83962 active=4392 piece=nheit\n",
      "bpe_model_trainer.cc(268) LOG(INFO) Added: freq=95 size=6480 all=83982 active=4412 piece=4).\n",
      "bpe_model_trainer.cc(268) LOG(INFO) Added: freq=95 size=6500 all=84062 active=4492 piece=▁decline\n",
      "bpe_model_trainer.cc(159) LOG(INFO) Updating active symbols. max_freq=95 min_freq=32\n",
      "bpe_model_trainer.cc(268) LOG(INFO) Added: freq=94 size=6520 all=84103 active=4245 piece=liable\n",
      "bpe_model_trainer.cc(268) LOG(INFO) Added: freq=94 size=6540 all=84119 active=4261 piece=▁products\n",
      "bpe_model_trainer.cc(268) LOG(INFO) Added: freq=93 size=6560 all=84178 active=4320 piece=▁manu\n",
      "bpe_model_trainer.cc(268) LOG(INFO) Added: freq=92 size=6580 all=84230 active=4372 piece=umst\n",
      "bpe_model_trainer.cc(268) LOG(INFO) Added: freq=92 size=6600 all=84334 active=4476 piece=▁crashed\n",
      "bpe_model_trainer.cc(159) LOG(INFO) Updating active symbols. max_freq=92 min_freq=32\n",
      "bpe_model_trainer.cc(268) LOG(INFO) Added: freq=91 size=6620 all=84349 active=4232 piece=▁12%\n",
      "bpe_model_trainer.cc(268) LOG(INFO) Added: freq=91 size=6640 all=84402 active=4285 piece=▁aircraft\n",
      "bpe_model_trainer.cc(268) LOG(INFO) Added: freq=90 size=6660 all=84555 active=4438 piece=▁depth\n",
      "bpe_model_trainer.cc(268) LOG(INFO) Added: freq=89 size=6680 all=84563 active=4446 piece=▁Lu\n",
      "bpe_model_trainer.cc(268) LOG(INFO) Added: freq=89 size=6700 all=84647 active=4530 piece=▁partner\n",
      "bpe_model_trainer.cc(159) LOG(INFO) Updating active symbols. max_freq=89 min_freq=31\n",
      "bpe_model_trainer.cc(268) LOG(INFO) Added: freq=88 size=6720 all=84719 active=4303 piece=▁pan\n",
      "bpe_model_trainer.cc(268) LOG(INFO) Added: freq=88 size=6740 all=84824 active=4408 piece=▁rising\n",
      "bpe_model_trainer.cc(268) LOG(INFO) Added: freq=87 size=6760 all=84845 active=4429 piece=▁asks\n",
      "bpe_model_trainer.cc(268) LOG(INFO) Added: freq=87 size=6780 all=84909 active=4493 piece=▁Nothing\n",
      "bpe_model_trainer.cc(268) LOG(INFO) Added: freq=86 size=6800 all=84950 active=4534 piece=inal\n",
      "bpe_model_trainer.cc(159) LOG(INFO) Updating active symbols. max_freq=86 min_freq=30\n",
      "bpe_model_trainer.cc(268) LOG(INFO) Added: freq=86 size=6820 all=85009 active=4279 piece=▁impediment\n",
      "bpe_model_trainer.cc(268) LOG(INFO) Added: freq=85 size=6840 all=85179 active=4449 piece=▁Count\n",
      "bpe_model_trainer.cc(268) LOG(INFO) Added: freq=85 size=6860 all=85219 active=4489 piece=▁understood\n",
      "bpe_model_trainer.cc(268) LOG(INFO) Added: freq=84 size=6880 all=85336 active=4606 piece=▁slid\n",
      "bpe_model_trainer.cc(268) LOG(INFO) Added: freq=84 size=6900 all=85390 active=4660 piece=▁mentally\n",
      "bpe_model_trainer.cc(159) LOG(INFO) Updating active symbols. max_freq=84 min_freq=29\n",
      "bpe_model_trainer.cc(268) LOG(INFO) Added: freq=83 size=6920 all=85472 active=4352 piece=▁ease\n",
      "bpe_model_trainer.cc(268) LOG(INFO) Added: freq=83 size=6940 all=85485 active=4365 piece=▁nationwide\n",
      "bpe_model_trainer.cc(268) LOG(INFO) Added: freq=82 size=6960 all=85555 active=4435 piece=▁Gallup\n",
      "bpe_model_trainer.cc(268) LOG(INFO) Added: freq=82 size=6980 all=85563 active=4443 piece=▁Greenhouse\n",
      "bpe_model_trainer.cc(268) LOG(INFO) Added: freq=81 size=7000 all=85709 active=4589 piece=osion\n",
      "bpe_model_trainer.cc(159) LOG(INFO) Updating active symbols. max_freq=81 min_freq=29\n",
      "bpe_model_trainer.cc(268) LOG(INFO) Added: freq=81 size=7020 all=85739 active=4308 piece=▁revenue\n",
      "bpe_model_trainer.cc(268) LOG(INFO) Added: freq=80 size=7040 all=85821 active=4390 piece=▁Never\n",
      "bpe_model_trainer.cc(268) LOG(INFO) Added: freq=79 size=7060 all=85851 active=4420 piece=urd\n",
      "bpe_model_trainer.cc(268) LOG(INFO) Added: freq=79 size=7080 all=85950 active=4519 piece=▁appealing\n",
      "bpe_model_trainer.cc(268) LOG(INFO) Added: freq=78 size=7100 all=86042 active=4611 piece=eling\n",
      "bpe_model_trainer.cc(159) LOG(INFO) Updating active symbols. max_freq=78 min_freq=28\n",
      "bpe_model_trainer.cc(268) LOG(INFO) Added: freq=78 size=7120 all=86094 active=4335 piece=▁existed\n",
      "bpe_model_trainer.cc(268) LOG(INFO) Added: freq=77 size=7140 all=86135 active=4376 piece=▁pas\n",
      "bpe_model_trainer.cc(268) LOG(INFO) Added: freq=77 size=7160 all=86238 active=4479 piece=▁sucess\n",
      "bpe_model_trainer.cc(268) LOG(INFO) Added: freq=77 size=7180 all=86241 active=4482 piece=▁campaigns\n",
      "bpe_model_trainer.cc(268) LOG(INFO) Added: freq=76 size=7200 all=86315 active=4556 piece=Posner\n",
      "bpe_model_trainer.cc(159) LOG(INFO) Updating active symbols. max_freq=76 min_freq=27\n",
      "bpe_model_trainer.cc(268) LOG(INFO) Added: freq=76 size=7220 all=86331 active=4332 piece=▁conflicts\n",
      "bpe_model_trainer.cc(268) LOG(INFO) Added: freq=75 size=7240 all=86400 active=4401 piece=▁mere\n",
      "bpe_model_trainer.cc(268) LOG(INFO) Added: freq=74 size=7260 all=86394 active=4395 piece=',\n",
      "bpe_model_trainer.cc(268) LOG(INFO) Added: freq=74 size=7280 all=86563 active=4564 piece=▁moods\n",
      "bpe_model_trainer.cc(268) LOG(INFO) Added: freq=74 size=7300 all=86571 active=4572 piece=▁efficiently\n",
      "bpe_model_trainer.cc(159) LOG(INFO) Updating active symbols. max_freq=73 min_freq=27\n",
      "bpe_model_trainer.cc(268) LOG(INFO) Added: freq=73 size=7320 all=86708 active=4466 piece=▁Werner\n",
      "bpe_model_trainer.cc(268) LOG(INFO) Added: freq=72 size=7340 all=86707 active=4465 piece=LD\n",
      "bpe_model_trainer.cc(268) LOG(INFO) Added: freq=72 size=7360 all=86803 active=4561 piece=▁cydonia\n",
      "bpe_model_trainer.cc(268) LOG(INFO) Added: freq=71 size=7380 all=86786 active=4544 piece=ax\n",
      "bpe_model_trainer.cc(268) LOG(INFO) Added: freq=71 size=7400 all=86985 active=4743 piece=▁amout\n",
      "bpe_model_trainer.cc(159) LOG(INFO) Updating active symbols. max_freq=71 min_freq=26\n",
      "bpe_model_trainer.cc(268) LOG(INFO) Added: freq=71 size=7420 all=87023 active=4385 piece=▁passion\n",
      "bpe_model_trainer.cc(268) LOG(INFO) Added: freq=70 size=7440 all=87115 active=4477 piece=▁mil\n",
      "bpe_model_trainer.cc(268) LOG(INFO) Added: freq=70 size=7460 all=87250 active=4612 piece=▁entitled\n",
      "bpe_model_trainer.cc(268) LOG(INFO) Added: freq=69 size=7480 all=87370 active=4732 piece=▁lect\n",
      "bpe_model_trainer.cc(268) LOG(INFO) Added: freq=69 size=7500 all=87398 active=4760 piece=▁suggested\n",
      "bpe_model_trainer.cc(159) LOG(INFO) Updating active symbols. max_freq=69 min_freq=25\n",
      "bpe_model_trainer.cc(268) LOG(INFO) Added: freq=68 size=7520 all=87476 active=4448 piece=▁defe\n",
      "bpe_model_trainer.cc(268) LOG(INFO) Added: freq=68 size=7540 all=87510 active=4482 piece=▁remains\n",
      "bpe_model_trainer.cc(268) LOG(INFO) Added: freq=67 size=7560 all=87557 active=4529 piece=ieve\n",
      "bpe_model_trainer.cc(268) LOG(INFO) Added: freq=67 size=7580 all=87654 active=4626 piece=▁suits\n",
      "bpe_model_trainer.cc(268) LOG(INFO) Added: freq=67 size=7600 all=87664 active=4636 piece=▁avoiding\n",
      "bpe_model_trainer.cc(159) LOG(INFO) Updating active symbols. max_freq=67 min_freq=25\n",
      "bpe_model_trainer.cc(268) LOG(INFO) Added: freq=66 size=7620 all=87782 active=4501 piece=order\n",
      "bpe_model_trainer.cc(268) LOG(INFO) Added: freq=66 size=7640 all=87849 active=4568 piece=▁involve\n",
      "bpe_model_trainer.cc(268) LOG(INFO) Added: freq=65 size=7660 all=87834 active=4553 piece=etc\n",
      "bpe_model_trainer.cc(268) LOG(INFO) Added: freq=65 size=7680 all=87977 active=4696 piece=▁sorry\n",
      "bpe_model_trainer.cc(268) LOG(INFO) Added: freq=65 size=7700 all=87979 active=4698 piece=▁downtown\n",
      "bpe_model_trainer.cc(159) LOG(INFO) Updating active symbols. max_freq=65 min_freq=24\n",
      "bpe_model_trainer.cc(268) LOG(INFO) Added: freq=64 size=7720 all=88121 active=4541 piece=raeus\n",
      "bpe_model_trainer.cc(268) LOG(INFO) Added: freq=64 size=7740 all=88187 active=4607 piece=▁commute\n",
      "bpe_model_trainer.cc(268) LOG(INFO) Added: freq=63 size=7760 all=88212 active=4632 piece=8).\n",
      "bpe_model_trainer.cc(268) LOG(INFO) Added: freq=63 size=7780 all=88367 active=4787 piece=▁Haung\n",
      "bpe_model_trainer.cc(268) LOG(INFO) Added: freq=63 size=7800 all=88394 active=4814 piece=▁challange\n",
      "bpe_model_trainer.cc(159) LOG(INFO) Updating active symbols. max_freq=63 min_freq=24\n",
      "bpe_model_trainer.cc(268) LOG(INFO) Added: freq=62 size=7820 all=88561 active=4586 piece=▁rect\n",
      "bpe_model_trainer.cc(268) LOG(INFO) Added: freq=62 size=7840 all=88596 active=4621 piece=▁bullied\n",
      "bpe_model_trainer.cc(268) LOG(INFO) Added: freq=61 size=7860 all=88616 active=4641 piece=New\n",
      "trainer_interface.cc(687) LOG(INFO) Saving model: essay_sp.model\n",
      "trainer_interface.cc(699) LOG(INFO) Saving vocabs: essay_sp.vocab\n"
     ]
    }
   ],
   "source": [
    "import sentencepiece as spm\n",
    "# Using sentencepiece\n",
    "\n",
    "def prepare_data(df, column_name, output_file):\n",
    "    with open(output_file, 'w', encoding='utf-8') as f:\n",
    "        for text in df[column_name]:\n",
    "            f.write(text + '\\n')\n",
    "\n",
    "prepare_data(df, 'full_text', 'essays.txt')\n",
    "\n",
    "\n",
    "\n",
    "\n",
    "\n",
    "def train_sentencepiece(input_file, model_prefix, vocab_size=8000, model_type='bpe'):\n",
    "    spm.SentencePieceTrainer.train(\n",
    "        input=input_file,\n",
    "        model_prefix=model_prefix,\n",
    "        vocab_size=vocab_size,\n",
    "        model_type=model_type,\n",
    "        character_coverage=1.0,\n",
    "        pad_id=0,\n",
    "          unk_id=1,\n",
    "        bos_id=2,\n",
    "        eos_id=3,\n",
    "        pad_piece='[PAD]',\n",
    "        unk_piece='[UNK]',\n",
    "        bos_piece='[BOS]',\n",
    "        eos_piece='[EOS]'\n",
    "    )\n",
    "\n",
    "train_sentencepiece('essays.txt', 'essay_sp', vocab_size=8000)\n"
   ]
  },
  {
   "cell_type": "code",
   "execution_count": 7,
   "metadata": {},
   "outputs": [],
   "source": [
    "\n",
    "sp = spm.SentencePieceProcessor()\n",
    "\n",
    "\n",
    "sp.load('essay_sp.model')\n",
    "\n",
    "\n",
    "\n",
    "#encoded_essays = [sp.encode(i for i in df[\"full_text\"])]\n",
    "\n",
    "\n",
    "\n",
    "def essay_encoder(df,encoder_model,max_len=500):\n",
    "    failsafe=0\n",
    "    encoded_df=[]\n",
    "    for i in df:\n",
    "        encoded_text=encoder_model.encode(i)\n",
    "        if len(encoded_text)>=max_len:\n",
    "            encoded_text=encoded_text[:max_len]\n",
    "        if len(encoded_text)<max_len:\n",
    "            encoded_text=np.pad(encoded_text,(0,max_len-len(encoded_text)))\n",
    "        encoded_df.append(encoded_text)\n",
    "    return encoded_df\n",
    "       \n",
    "        \n",
    "          \n",
    "\n",
    "\n",
    "encoded_data=np.array(essay_encoder(df[\"full_text\"],sp,max_len=500))\n",
    "normalized_scores=df[\"score\"]/6\n",
    "#print(\"hi\"+sp.decode([0])+\"helo\")\n"
   ]
  },
  {
   "cell_type": "markdown",
   "metadata": {},
   "source": [
    "Splitting of data"
   ]
  },
  {
   "cell_type": "code",
   "execution_count": 8,
   "metadata": {},
   "outputs": [],
   "source": [
    "#  doing 70,15,15 split \n",
    "tsplit_len=int(0.7*len(encoded_data))\n",
    "tvsplit_len=int(0.15*len(encoded_data))\n",
    "x_train=encoded_data[:tsplit_len]\n",
    "x_test=encoded_data[tsplit_len:tvsplit_len+tsplit_len]\n",
    "x_val=encoded_data[tsplit_len+tvsplit_len:]\n",
    "\n",
    "y_train=normalized_scores[:tsplit_len]\n",
    "y_test=normalized_scores[tsplit_len:tvsplit_len+tsplit_len]\n",
    "y_val=normalized_scores[tsplit_len+tvsplit_len:]\n",
    "# print(len(df[\"full_text\"]),len(x_train)+len(x_test)+len(x_val),len(y_train)+len(y_test)+len(y_val))"
   ]
  },
  {
   "cell_type": "markdown",
   "metadata": {},
   "source": [
    "Making Model"
   ]
  },
  {
   "cell_type": "code",
   "execution_count": 11,
   "metadata": {},
   "outputs": [
    {
     "name": "stderr",
     "output_type": "stream",
     "text": [
      "2024-06-30 13:47:28.694051: I external/local_tsl/tsl/cuda/cudart_stub.cc:32] Could not find cuda drivers on your machine, GPU will not be used.\n",
      "2024-06-30 13:47:28.840536: I external/local_tsl/tsl/cuda/cudart_stub.cc:32] Could not find cuda drivers on your machine, GPU will not be used.\n",
      "2024-06-30 13:47:28.889297: E external/local_xla/xla/stream_executor/cuda/cuda_fft.cc:479] Unable to register cuFFT factory: Attempting to register factory for plugin cuFFT when one has already been registered\n",
      "2024-06-30 13:47:28.933885: E external/local_xla/xla/stream_executor/cuda/cuda_dnn.cc:10575] Unable to register cuDNN factory: Attempting to register factory for plugin cuDNN when one has already been registered\n",
      "2024-06-30 13:47:28.933933: E external/local_xla/xla/stream_executor/cuda/cuda_blas.cc:1442] Unable to register cuBLAS factory: Attempting to register factory for plugin cuBLAS when one has already been registered\n",
      "2024-06-30 13:47:29.017440: I tensorflow/core/platform/cpu_feature_guard.cc:210] This TensorFlow binary is optimized to use available CPU instructions in performance-critical operations.\n",
      "To enable the following instructions: AVX2 FMA, in other operations, rebuild TensorFlow with the appropriate compiler flags.\n",
      "2024-06-30 13:47:30.422478: W tensorflow/compiler/tf2tensorrt/utils/py_utils.cc:38] TF-TRT Warning: Could not find TensorRT\n",
      "/home/codespace/.python/current/lib/python3.10/site-packages/keras/src/layers/core/embedding.py:90: UserWarning: Argument `input_length` is deprecated. Just remove it.\n",
      "  warnings.warn(\n"
     ]
    }
   ],
   "source": [
    "import tensorflow as tf\n",
    "from tensorflow import keras\n",
    "@tf.keras.utils.register_keras_serializable()\n",
    "\n",
    "def make_model(vocab_size, embedding_dim,max_length,rnn_units=64):\n",
    "    model=keras.Sequential([\n",
    "        keras.layers.Embedding(vocab_size, embedding_dim,input_length=max_length),\n",
    "        keras.layers.Bidirectional(keras.layers.LSTM(rnn_units, return_sequences=True)),\n",
    "        keras.layers.Bidirectional(keras.layers.LSTM(rnn_units)),\n",
    "        keras.layers.Dense(64, activation='relu'),\n",
    "        keras.layers.Dense(1)\n",
    "    ]\n",
    "    )\n",
    "    return model\n",
    "\n",
    "\n",
    "model=make_model(vocab_size=8000,embedding_dim=64,max_length=500,rnn_units=64)\n",
    "model.compile(optimizer='adam', loss='mean_squared_error', metrics=['mae'])\n"
   ]
  },
  {
   "cell_type": "markdown",
   "metadata": {},
   "source": [
    "Summary of our model"
   ]
  },
  {
   "cell_type": "code",
   "execution_count": 12,
   "metadata": {},
   "outputs": [
    {
     "data": {
      "text/html": [
       "<pre style=\"white-space:pre;overflow-x:auto;line-height:normal;font-family:Menlo,'DejaVu Sans Mono',consolas,'Courier New',monospace\"><span style=\"font-weight: bold\">Model: \"sequential\"</span>\n",
       "</pre>\n"
      ],
      "text/plain": [
       "\u001b[1mModel: \"sequential\"\u001b[0m\n"
      ]
     },
     "metadata": {},
     "output_type": "display_data"
    },
    {
     "data": {
      "text/html": [
       "<pre style=\"white-space:pre;overflow-x:auto;line-height:normal;font-family:Menlo,'DejaVu Sans Mono',consolas,'Courier New',monospace\">┏━━━━━━━━━━━━━━━━━━━━━━━━━━━━━━━━━┳━━━━━━━━━━━━━━━━━━━━━━━━┳━━━━━━━━━━━━━━━┓\n",
       "┃<span style=\"font-weight: bold\"> Layer (type)                    </span>┃<span style=\"font-weight: bold\"> Output Shape           </span>┃<span style=\"font-weight: bold\">       Param # </span>┃\n",
       "┡━━━━━━━━━━━━━━━━━━━━━━━━━━━━━━━━━╇━━━━━━━━━━━━━━━━━━━━━━━━╇━━━━━━━━━━━━━━━┩\n",
       "│ embedding (<span style=\"color: #0087ff; text-decoration-color: #0087ff\">Embedding</span>)           │ ?                      │   <span style=\"color: #00af00; text-decoration-color: #00af00\">0</span> (unbuilt) │\n",
       "├─────────────────────────────────┼────────────────────────┼───────────────┤\n",
       "│ bidirectional (<span style=\"color: #0087ff; text-decoration-color: #0087ff\">Bidirectional</span>)   │ ?                      │   <span style=\"color: #00af00; text-decoration-color: #00af00\">0</span> (unbuilt) │\n",
       "├─────────────────────────────────┼────────────────────────┼───────────────┤\n",
       "│ bidirectional_1 (<span style=\"color: #0087ff; text-decoration-color: #0087ff\">Bidirectional</span>) │ ?                      │   <span style=\"color: #00af00; text-decoration-color: #00af00\">0</span> (unbuilt) │\n",
       "├─────────────────────────────────┼────────────────────────┼───────────────┤\n",
       "│ dense (<span style=\"color: #0087ff; text-decoration-color: #0087ff\">Dense</span>)                   │ ?                      │   <span style=\"color: #00af00; text-decoration-color: #00af00\">0</span> (unbuilt) │\n",
       "├─────────────────────────────────┼────────────────────────┼───────────────┤\n",
       "│ dense_1 (<span style=\"color: #0087ff; text-decoration-color: #0087ff\">Dense</span>)                 │ ?                      │   <span style=\"color: #00af00; text-decoration-color: #00af00\">0</span> (unbuilt) │\n",
       "└─────────────────────────────────┴────────────────────────┴───────────────┘\n",
       "</pre>\n"
      ],
      "text/plain": [
       "┏━━━━━━━━━━━━━━━━━━━━━━━━━━━━━━━━━┳━━━━━━━━━━━━━━━━━━━━━━━━┳━━━━━━━━━━━━━━━┓\n",
       "┃\u001b[1m \u001b[0m\u001b[1mLayer (type)                   \u001b[0m\u001b[1m \u001b[0m┃\u001b[1m \u001b[0m\u001b[1mOutput Shape          \u001b[0m\u001b[1m \u001b[0m┃\u001b[1m \u001b[0m\u001b[1m      Param #\u001b[0m\u001b[1m \u001b[0m┃\n",
       "┡━━━━━━━━━━━━━━━━━━━━━━━━━━━━━━━━━╇━━━━━━━━━━━━━━━━━━━━━━━━╇━━━━━━━━━━━━━━━┩\n",
       "│ embedding (\u001b[38;5;33mEmbedding\u001b[0m)           │ ?                      │   \u001b[38;5;34m0\u001b[0m (unbuilt) │\n",
       "├─────────────────────────────────┼────────────────────────┼───────────────┤\n",
       "│ bidirectional (\u001b[38;5;33mBidirectional\u001b[0m)   │ ?                      │   \u001b[38;5;34m0\u001b[0m (unbuilt) │\n",
       "├─────────────────────────────────┼────────────────────────┼───────────────┤\n",
       "│ bidirectional_1 (\u001b[38;5;33mBidirectional\u001b[0m) │ ?                      │   \u001b[38;5;34m0\u001b[0m (unbuilt) │\n",
       "├─────────────────────────────────┼────────────────────────┼───────────────┤\n",
       "│ dense (\u001b[38;5;33mDense\u001b[0m)                   │ ?                      │   \u001b[38;5;34m0\u001b[0m (unbuilt) │\n",
       "├─────────────────────────────────┼────────────────────────┼───────────────┤\n",
       "│ dense_1 (\u001b[38;5;33mDense\u001b[0m)                 │ ?                      │   \u001b[38;5;34m0\u001b[0m (unbuilt) │\n",
       "└─────────────────────────────────┴────────────────────────┴───────────────┘\n"
      ]
     },
     "metadata": {},
     "output_type": "display_data"
    },
    {
     "data": {
      "text/html": [
       "<pre style=\"white-space:pre;overflow-x:auto;line-height:normal;font-family:Menlo,'DejaVu Sans Mono',consolas,'Courier New',monospace\"><span style=\"font-weight: bold\"> Total params: </span><span style=\"color: #00af00; text-decoration-color: #00af00\">0</span> (0.00 B)\n",
       "</pre>\n"
      ],
      "text/plain": [
       "\u001b[1m Total params: \u001b[0m\u001b[38;5;34m0\u001b[0m (0.00 B)\n"
      ]
     },
     "metadata": {},
     "output_type": "display_data"
    },
    {
     "data": {
      "text/html": [
       "<pre style=\"white-space:pre;overflow-x:auto;line-height:normal;font-family:Menlo,'DejaVu Sans Mono',consolas,'Courier New',monospace\"><span style=\"font-weight: bold\"> Trainable params: </span><span style=\"color: #00af00; text-decoration-color: #00af00\">0</span> (0.00 B)\n",
       "</pre>\n"
      ],
      "text/plain": [
       "\u001b[1m Trainable params: \u001b[0m\u001b[38;5;34m0\u001b[0m (0.00 B)\n"
      ]
     },
     "metadata": {},
     "output_type": "display_data"
    },
    {
     "data": {
      "text/html": [
       "<pre style=\"white-space:pre;overflow-x:auto;line-height:normal;font-family:Menlo,'DejaVu Sans Mono',consolas,'Courier New',monospace\"><span style=\"font-weight: bold\"> Non-trainable params: </span><span style=\"color: #00af00; text-decoration-color: #00af00\">0</span> (0.00 B)\n",
       "</pre>\n"
      ],
      "text/plain": [
       "\u001b[1m Non-trainable params: \u001b[0m\u001b[38;5;34m0\u001b[0m (0.00 B)\n"
      ]
     },
     "metadata": {},
     "output_type": "display_data"
    }
   ],
   "source": [
    "model.summary()"
   ]
  },
  {
   "cell_type": "markdown",
   "metadata": {},
   "source": [
    "Training of model"
   ]
  },
  {
   "cell_type": "code",
   "execution_count": 13,
   "metadata": {},
   "outputs": [
    {
     "name": "stderr",
     "output_type": "stream",
     "text": [
      "2024-06-30 13:49:19.491954: W external/local_tsl/tsl/framework/cpu_allocator_impl.cc:83] Allocation of 48456000 exceeds 10% of free system memory.\n"
     ]
    },
    {
     "name": "stdout",
     "output_type": "stream",
     "text": [
      "\u001b[1m190/190\u001b[0m \u001b[32m━━━━━━━━━━━━━━━━━━━━\u001b[0m\u001b[37m\u001b[0m \u001b[1m215s\u001b[0m 1s/step - loss: 0.0468 - mae: 0.1579 - val_loss: 0.0196 - val_mae: 0.1132\n"
     ]
    },
    {
     "data": {
      "text/plain": [
       "<keras.src.callbacks.history.History at 0x7b5fccc4eef0>"
      ]
     },
     "execution_count": 13,
     "metadata": {},
     "output_type": "execute_result"
    }
   ],
   "source": [
    "model.fit(x_train,y_train,epochs=1,batch_size=64, validation_data=(x_val,y_val),callbacks=[tf.keras.callbacks.EarlyStopping(patience=3, restore_best_weights=True)])\n"
   ]
  },
  {
   "cell_type": "markdown",
   "metadata": {},
   "source": [
    "Predicting Model data"
   ]
  },
  {
   "cell_type": "code",
   "execution_count": 14,
   "metadata": {},
   "outputs": [
    {
     "name": "stdout",
     "output_type": "stream",
     "text": [
      "\u001b[1m82/82\u001b[0m \u001b[32m━━━━━━━━━━━━━━━━━━━━\u001b[0m\u001b[37m\u001b[0m \u001b[1m13s\u001b[0m 151ms/step\n"
     ]
    }
   ],
   "source": [
    "#test_loss, test_mae = model.evaluate(x_test, y_test)\n",
    "#print(f\"Test MAE: {test_mae}\")\n",
    "prediction=model.predict(x_test)\n",
    "\n",
    "#print(\"actual_score=\",y_test[0],\"Predicted_score=\",predection[0]*6)"
   ]
  },
  {
   "cell_type": "markdown",
   "metadata": {},
   "source": [
    "Function to convert normal text into Model Input"
   ]
  },
  {
   "cell_type": "code",
   "execution_count": 15,
   "metadata": {},
   "outputs": [],
   "source": [
    "def encode_input(text,encoder_model,max_len=500):\n",
    "    text=encoder_model.encode(text)\n",
    "    if len(text)>=max_len:\n",
    "            text=text[:max_len]\n",
    "    if len(text)<max_len:\n",
    "        text=np.pad(text,(0,max_len-len(text)))\n",
    "    return np.array(text)\n"
   ]
  },
  {
   "cell_type": "markdown",
   "metadata": {},
   "source": [
    "Showing full text"
   ]
  },
  {
   "cell_type": "code",
   "execution_count": 16,
   "metadata": {},
   "outputs": [
    {
     "data": {
      "text/plain": [
       "'Cars have been used for a very long time now and are a revolutionary invention that completely changed the way humans lived, since it became easier to move from one place to another and increase the size of our cities and mobility in general. Automobiles have alwayas been extremly useful and necesary to our society, however, it had too, some significant disadvantages that could have great impact on our lives. Having this clear now we can point ouit tghe advantages of limiting the car usage no matter how hard or difficult it might be to the biggest cities or more developed societies.\\n\\nIt is important to notice an experiment that was conducted in Germany, the city of Vauban was finished in 2006 and it is an example of a \"car-free\" environment with a few exceptions such as the main street and borders, acording to Elizabeth Rosenthal in her article: \"In German Suburbs, Life Goes On Without Cars\". In the passage it is explained how people gave up a certain lifesctyle to participate in this new progect and it proves how limiting the usage of car can create a very succesful and less stresful future. 70% of the population of this city do not own cars, one of them, Heidrum Walter said: \"When I had a car I was aleays tense, I\\'m much happier this way,\" proving again how advantagous is this experiment.\\n\\nIn the other had, there is France\\'s capital; Paris, which banned driving due to smog. \"Diesel fuel was blamed\" expressed Robert Duffer on his atricle, additionally refering to its use which makes up 67% of the vehicles in France. As a resulf of the fines and free public transpartation on business days the smog cleared enough so part of the ban was rescinded. Another example of the advantages of reducing car usage is how \"its a good opportunity to take away stress and lower air pollution\" added Carlos A. Plaza, a colombian participating in the car-free day that takes place in Bogota every year. This event motivates people not just in the Colombian capital to ride bikes and be healthier but everyone around them, including adjacent southamerican countries. For instance, stadistics talk too, and it is possible that America getting over its obsession with cars, which is amazing news due to the fact that mobiles vehicles represent the second largest source of carbon emissions in America, as discused on \"The End of Car Culture\" by Elizabeth Rosenthal.\\n\\nAll in all, limiting car usage - although a difficul decision for most residents of develeped first-worls countries - might just be one of the greatest steps we could take towards helping our envirionment and forging a new society, shaping it a better way, building healthier kids that will excersice and ejoy more the outsides, and that will breathe cleaner, fresher air. We can improve our atmosphere\\'s condition refereing to greenhouse gasses and carbon emissions and in addition, lead out economy a different direction, maybe to a better, improved world and society that does not depend on mechanic vehicles.\\xa0 \\xa0 \\xa0 \\xa0 \\xa0    '"
      ]
     },
     "execution_count": 16,
     "metadata": {},
     "output_type": "execute_result"
    }
   ],
   "source": [
    "df[\"full_text\"][8000]"
   ]
  },
  {
   "cell_type": "markdown",
   "metadata": {},
   "source": [
    "Empty String Passing"
   ]
  },
  {
   "cell_type": "code",
   "execution_count": 17,
   "metadata": {},
   "outputs": [],
   "source": [
    "essay_string = \"\"\" \"\"\"       "
   ]
  },
  {
   "cell_type": "markdown",
   "metadata": {},
   "source": [
    "Passing any String"
   ]
  },
  {
   "cell_type": "code",
   "execution_count": 18,
   "metadata": {},
   "outputs": [],
   "source": [
    "essay_string = \"\"\"This is the Machine Learning Model\"\"\""
   ]
  },
  {
   "cell_type": "markdown",
   "metadata": {},
   "source": [
    "Using encoder to encode the string into vectors"
   ]
  },
  {
   "cell_type": "code",
   "execution_count": 19,
   "metadata": {},
   "outputs": [],
   "source": [
    "encoded_user_input = encode_input(essay_string,sp,max_len=500)"
   ]
  },
  {
   "cell_type": "code",
   "execution_count": 20,
   "metadata": {},
   "outputs": [
    {
     "name": "stdout",
     "output_type": "stream",
     "text": [
      "\u001b[1m1/1\u001b[0m \u001b[32m━━━━━━━━━━━━━━━━━━━━\u001b[0m\u001b[37m\u001b[0m \u001b[1m0s\u001b[0m 69ms/step\n",
      "Score =  [[1.3151681]]\n"
     ]
    }
   ],
   "source": [
    "encoded_user_input=encoded_user_input.reshape(1,500)\n",
    "user_input_prediction = model.predict(encoded_user_input)\n",
    "print(\"Score = \",((user_input_prediction)*6))"
   ]
  },
  {
   "cell_type": "markdown",
   "metadata": {},
   "source": [
    "Checking the Actual Score and Predicted Score"
   ]
  },
  {
   "cell_type": "code",
   "execution_count": 21,
   "metadata": {},
   "outputs": [
    {
     "name": "stdout",
     "output_type": "stream",
     "text": [
      "Actual Score = [2.0] Predicted Score= [2.]\n"
     ]
    }
   ],
   "source": [
    "print(\"Actual Score =\",list(y_test[0:1]*6),\"Predicted Score=\", np.round(prediction[0]*6))"
   ]
  },
  {
   "cell_type": "markdown",
   "metadata": {},
   "source": [
    "Saving the model"
   ]
  },
  {
   "cell_type": "code",
   "execution_count": 22,
   "metadata": {},
   "outputs": [],
   "source": [
    "\n",
    "model.save(\"model.keras\")"
   ]
  },
  {
   "cell_type": "markdown",
   "metadata": {},
   "source": [
    "Loading the model"
   ]
  },
  {
   "cell_type": "code",
   "execution_count": 23,
   "metadata": {},
   "outputs": [],
   "source": [
    "\n",
    "model1 = keras.models.load_model(\"model.keras\")"
   ]
  },
  {
   "cell_type": "code",
   "execution_count": 24,
   "metadata": {},
   "outputs": [
    {
     "name": "stdout",
     "output_type": "stream",
     "text": [
      "\u001b[1m1/1\u001b[0m \u001b[32m━━━━━━━━━━━━━━━━━━━━\u001b[0m\u001b[37m\u001b[0m \u001b[1m0s\u001b[0m 388ms/step\n",
      "[[1.3151681]]\n"
     ]
    }
   ],
   "source": [
    "print(model1.predict(encoded_user_input)*6)"
   ]
  },
  {
   "cell_type": "markdown",
   "metadata": {},
   "source": [
    "Multiplying by 6 to get the score from range 1 to 6"
   ]
  },
  {
   "cell_type": "code",
   "execution_count": 25,
   "metadata": {},
   "outputs": [
    {
     "name": "stdout",
     "output_type": "stream",
     "text": [
      "Actual score= [2.0] Predicted score= [2.]\n",
      "Actual score= [2.0] Predicted score= [3.]\n",
      "Actual score= [5.0] Predicted score= [3.]\n",
      "Actual score= [5.0] Predicted score= [4.]\n",
      "Actual score= [3.0] Predicted score= [2.]\n",
      "Actual score= [4.0] Predicted score= [2.]\n",
      "Actual score= [3.0] Predicted score= [3.]\n",
      "Actual score= [5.0] Predicted score= [3.]\n",
      "Actual score= [2.0] Predicted score= [2.]\n",
      "Actual score= [2.0] Predicted score= [3.]\n",
      "Actual score= [4.0] Predicted score= [3.]\n",
      "Actual score= [6.0] Predicted score= [4.]\n",
      "Actual score= [3.0] Predicted score= [3.]\n",
      "Actual score= [3.0] Predicted score= [3.]\n",
      "Actual score= [2.0] Predicted score= [2.]\n",
      "Actual score= [1.0] Predicted score= [2.]\n",
      "Actual score= [4.0] Predicted score= [4.]\n",
      "Actual score= [2.0] Predicted score= [3.]\n",
      "Actual score= [5.0] Predicted score= [4.]\n",
      "Actual score= [2.0] Predicted score= [3.]\n",
      "Actual score= [3.0] Predicted score= [2.]\n",
      "Actual score= [4.0] Predicted score= [3.]\n",
      "Actual score= [3.0] Predicted score= [2.]\n",
      "Actual score= [3.0] Predicted score= [3.]\n",
      "Actual score= [3.0] Predicted score= [3.]\n"
     ]
    }
   ],
   "source": [
    "for i in range(25):\n",
    "    print(\"Actual score=\",list(y_test[i:i+1]*6),\"Predicted score=\",np.round(prediction[i]*6))"
   ]
  },
  {
   "cell_type": "code",
   "execution_count": 26,
   "metadata": {},
   "outputs": [
    {
     "name": "stdout",
     "output_type": "stream",
     "text": [
      "(17307, 500)\n",
      "(2596, 1) (2596,)\n",
      "[0.38234502]\n"
     ]
    }
   ],
   "source": [
    "print(encoded_data.shape)\n",
    "#print(normalized_scores[:100])\n",
    "\n",
    "print(prediction.shape,y_test.shape)\n",
    "print(prediction[0])\n",
    "# mod(optimizer='adam', loss='mean_squared_error', metrics=['mae'])el.compile \n"
   ]
  }
 ],
 "metadata": {
  "kernelspec": {
   "display_name": "Python 3",
   "language": "python",
   "name": "python3"
  },
  "language_info": {
   "codemirror_mode": {
    "name": "ipython",
    "version": 3
   },
   "file_extension": ".py",
   "mimetype": "text/x-python",
   "name": "python",
   "nbconvert_exporter": "python",
   "pygments_lexer": "ipython3",
   "version": "3.10.13"
  }
 },
 "nbformat": 4,
 "nbformat_minor": 2
}
